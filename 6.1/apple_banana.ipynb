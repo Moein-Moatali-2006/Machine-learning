{
 "cells": [
  {
   "cell_type": "markdown",
   "metadata": {},
   "source": [
    "![\"my picture\"](https://miro.medium.com/v2/resize:fit:1400/1*zSk0qdSj7E70uaOW4hVzkg.png)"
   ]
  },
  {
   "cell_type": "code",
   "execution_count": 61,
   "metadata": {},
   "outputs": [],
   "source": [
    "import numpy as np\n",
    "import matplotlib.pyplot as plt"
   ]
  },
  {
   "cell_type": "code",
   "execution_count": 62,
   "metadata": {},
   "outputs": [],
   "source": [
    "n=100\n",
    "apple_width = np.random.normal(6,1,n)\n",
    "apple_length = np.random.normal(6,1,n)\n",
    "banana_width = np.random.normal(4,1,n)\n",
    "banana_length = np.random.normal(8,1,n)"
   ]
  },
  {
   "cell_type": "code",
   "execution_count": 63,
   "metadata": {},
   "outputs": [],
   "source": [
    "x_width = 3\n",
    "x_length = 9\n",
    "\n",
    "y_width = 7\n",
    "y_length = 5\n",
    "\n",
    "z_width = 5\n",
    "z_length = 7"
   ]
  },
  {
   "cell_type": "code",
   "execution_count": 64,
   "metadata": {},
   "outputs": [
    {
     "data": {
      "image/png": "[encoded data removed]",
      "text/plain": [
       "<Figure size 640x480 with 1 Axes>"
      ]
     },
     "metadata": {},
     "output_type": "display_data"
    }
   ],
   "source": [
    "plt.scatter(apple_width,apple_length,color=\"red\",marker=\".\")\n",
    "plt.scatter(banana_width,banana_length,color=\"orange\",marker=\".\")\n",
    "plt.scatter(x_width,x_length,color=\"blue\",marker=\"o\")\n",
    "plt.scatter(y_width,y_length,color=\"green\",marker=\"o\")\n",
    "plt.scatter(z_width,z_length,color=\"black\",marker=\"o\")\n",
    "plt.title(\"Apples and Bananas\")\n",
    "plt.xlabel(\"width\")\n",
    "plt.ylabel(\"length\")\n",
    "plt.show()"
   ]
  },
  {
   "cell_type": "markdown",
   "metadata": {},
   "source": [
    "KNN : K Nearest Neighbors"
   ]
  },
  {
   "cell_type": "code",
   "execution_count": 65,
   "metadata": {},
   "outputs": [],
   "source": [
    "width = np.concatenate((apple_width,banana_width))\n",
    "length = np.concatenate((apple_length,banana_length))\n",
    "\n",
    "X_train = np.array([width,length]).T\n"
   ]
  },
  {
   "cell_type": "code",
   "execution_count": 66,
   "metadata": {},
   "outputs": [],
   "source": [
    "Y_apples = np.zeros(n,dtype=\"int\")\n",
    "Y_bananas = np.ones(n,dtype=\"int\")\n",
    "Y_train = np.concatenate((Y_apples,Y_bananas))"
   ]
  },
  {
   "cell_type": "code",
   "execution_count": 67,
   "metadata": {},
   "outputs": [],
   "source": [
    "def euclidean_distance(x1,x2):\n",
    "    return np.sqrt(np.sum((x1-x2)**2))"
   ]
  },
  {
   "cell_type": "code",
   "execution_count": 68,
   "metadata": {},
   "outputs": [
    {
     "data": {
      "text/plain": [
       "6.708203932499369"
      ]
     },
     "execution_count": 68,
     "metadata": {},
     "output_type": "execute_result"
    }
   ],
   "source": [
    "s=np.array((4,5))\n",
    "m=np.array((10,2))\n",
    "\n",
    "euclidean_distance(s,m)"
   ]
  },
  {
   "cell_type": "code",
   "execution_count": 69,
   "metadata": {},
   "outputs": [
    {
     "data": {
      "text/plain": [
       "[2.2891926183659326,\n",
       " 2.4536441523250097,\n",
       " 2.8911718749274526,\n",
       " 4.212337822356768,\n",
       " 1.4113819080019603,\n",
       " 3.538753918941064,\n",
       " 3.628099159884181,\n",
       " 3.853332324560269,\n",
       " 3.245762328146632,\n",
       " 1.903567768005212,\n",
       " 1.6305858538466687,\n",
       " 3.188281986435888,\n",
       " 1.8127992492988556,\n",
       " 3.7838044031543925,\n",
       " 2.256636583796148,\n",
       " 2.400455027220522,\n",
       " 1.0705479312138049,\n",
       " 3.6892216421618524,\n",
       " 3.6217768330207765,\n",
       " 2.9262940472521275,\n",
       " 3.8105246227581,\n",
       " 2.372848215923822,\n",
       " 2.0905705746504992,\n",
       " 2.4037418353732813,\n",
       " 4.914047577736807,\n",
       " 2.498505106354071,\n",
       " 1.0792324009992365,\n",
       " 5.377980681331607,\n",
       " 1.5454272792331105,\n",
       " 2.3683512035963896,\n",
       " 4.135000433923367,\n",
       " 3.7521087522848804,\n",
       " 4.267442664495841,\n",
       " 3.8922951133782564,\n",
       " 3.467723371271375,\n",
       " 3.1866257616049993,\n",
       " 3.1468967839446713,\n",
       " 3.7107709040288994,\n",
       " 4.376063049007443,\n",
       " 1.046025094206875,\n",
       " 1.050793181792823,\n",
       " 1.79787214989738,\n",
       " 1.7277114086366026,\n",
       " 4.029106217397796,\n",
       " 2.477388274588095,\n",
       " 1.3003080472026354,\n",
       " 2.9714877411776768,\n",
       " 2.7054601138666734,\n",
       " 3.549723012916554,\n",
       " 3.816222090245867,\n",
       " 3.1423197058187404,\n",
       " 3.345285836537812,\n",
       " 3.2364329066084903,\n",
       " 0.6258458299137449,\n",
       " 3.6431721706337443,\n",
       " 4.008616501389946,\n",
       " 3.3052393254369266,\n",
       " 4.400229623999839,\n",
       " 2.0928366976976056,\n",
       " 2.955443950809452,\n",
       " 3.2434485726016686,\n",
       " 2.884799330771993,\n",
       " 2.8111899098105093,\n",
       " 2.7786277876252803,\n",
       " 2.6120550276964054,\n",
       " 4.801705146828005,\n",
       " 2.711194282899869,\n",
       " 1.9714031335088376,\n",
       " 2.0559446475947385,\n",
       " 1.7558090484161302,\n",
       " 2.9744229698072897,\n",
       " 1.1893910903286307,\n",
       " 3.5359927530971196,\n",
       " 3.3130722562442396,\n",
       " 1.7819004542787262,\n",
       " 1.9137600361608949,\n",
       " 2.3892478970177886,\n",
       " 2.1859828658597205,\n",
       " 3.0223096284405813,\n",
       " 4.0593974515278095,\n",
       " 4.230703231347085,\n",
       " 2.10019574462668,\n",
       " 2.9502679410323878,\n",
       " 3.1636744334356495,\n",
       " 3.578366453999561,\n",
       " 3.2027305107569584,\n",
       " 3.5783419123539835,\n",
       " 4.094630194421159,\n",
       " 4.1089700404645955,\n",
       " 2.669890202693008,\n",
       " 3.0772848325163658,\n",
       " 2.2731700493594604,\n",
       " 3.1449867761241754,\n",
       " 2.467368191366586,\n",
       " 1.6743683588219325,\n",
       " 2.1733347441990176,\n",
       " 2.42389132597381,\n",
       " 2.8646749622675083,\n",
       " 3.3730783772108093,\n",
       " 3.278679002228704,\n",
       " 1.6096354705812719,\n",
       " 1.9306968073380157,\n",
       " 0.9994776092192933,\n",
       " 1.0767987755953758,\n",
       " 0.4850024217281491,\n",
       " 2.1304064229056543,\n",
       " 0.36134592509781155,\n",
       " 2.0421769678030133,\n",
       " 0.5747576244336874,\n",
       " 1.126783517424322,\n",
       " 2.03899323048089,\n",
       " 0.38238413099846047,\n",
       " 0.5477978856259883,\n",
       " 1.6558940789069716,\n",
       " 1.2722683501834733,\n",
       " 1.5297410169655667,\n",
       " 1.5410692049872077,\n",
       " 0.970920454005887,\n",
       " 1.276826166066256,\n",
       " 2.101678584985853,\n",
       " 1.0315385080334034,\n",
       " 1.0916576130133062,\n",
       " 1.2201848527870154,\n",
       " 1.1171760618351343,\n",
       " 0.8703437501376031,\n",
       " 0.49919325814353516,\n",
       " 2.773897384874242,\n",
       " 1.4111893870243588,\n",
       " 1.8735848508068305,\n",
       " 1.3641683365352666,\n",
       " 0.7936738456203266,\n",
       " 1.343205754069421,\n",
       " 1.0219758035932682,\n",
       " 1.400178790259469,\n",
       " 1.5785442067689055,\n",
       " 2.6772600317506425,\n",
       " 1.7776987940007665,\n",
       " 1.0075292668544016,\n",
       " 0.14473497716076839,\n",
       " 0.6791157233182078,\n",
       " 3.1357496181785542,\n",
       " 0.2778203002679884,\n",
       " 1.0742476229156162,\n",
       " 1.9156540019062656,\n",
       " 2.845464053147438,\n",
       " 1.642532396168208,\n",
       " 0.18555116566705493,\n",
       " 0.4927076284811883,\n",
       " 0.8215604369998222,\n",
       " 0.33914890605340176,\n",
       " 0.8097614068445826,\n",
       " 1.399598811938726,\n",
       " 0.3713089492051511,\n",
       " 1.0315070541676057,\n",
       " 0.8367286029402385,\n",
       " 1.2788587871582637,\n",
       " 0.8940848826059774,\n",
       " 0.6640430817056865,\n",
       " 1.3989435472238887,\n",
       " 1.8861516523383641,\n",
       " 1.2256145442969761,\n",
       " 2.7042369660217056,\n",
       " 1.611820905393579,\n",
       " 0.20980515264633642,\n",
       " 1.1726163951603674,\n",
       " 0.4377230669713647,\n",
       " 0.8385161263554392,\n",
       " 0.9097333934823985,\n",
       " 0.40013032599755616,\n",
       " 1.013503453956046,\n",
       " 0.4442143769600338,\n",
       " 0.44172595382322327,\n",
       " 2.2684708439030157,\n",
       " 0.8117298474385929,\n",
       " 1.8505763429579285,\n",
       " 2.402854427692508,\n",
       " 1.1908666244520312,\n",
       " 0.9063093939162632,\n",
       " 1.233476105776727,\n",
       " 0.9234382289723848,\n",
       " 0.4210287890523332,\n",
       " 1.0738078741260357,\n",
       " 0.846324122721396,\n",
       " 1.2119726418332522,\n",
       " 2.4035690442219826,\n",
       " 1.2999794299431386,\n",
       " 2.146246473339835,\n",
       " 1.3707765722170913,\n",
       " 1.1070310227098836,\n",
       " 1.7345253851626996,\n",
       " 0.546204456762827,\n",
       " 1.7298442471453734,\n",
       " 1.656193406207988,\n",
       " 1.0769482807405752,\n",
       " 2.462066720871932,\n",
       " 0.41200230901053325,\n",
       " 0.9965949765645119,\n",
       " 0.9130208152202111,\n",
       " 1.7545217691563222,\n",
       " 2.737878674996168]"
      ]
     },
     "execution_count": 69,
     "metadata": {},
     "output_type": "execute_result"
    }
   ],
   "source": [
    "new_fruit = np.array([4,8])\n",
    "\n",
    "distances=[]\n",
    "for x in X_train:\n",
    "    d=euclidean_distance(new_fruit,x)\n",
    "    distances.append(d)\n",
    "\n",
    "distances"
   ]
  },
  {
   "cell_type": "code",
   "execution_count": 70,
   "metadata": {},
   "outputs": [],
   "source": [
    "k = 5"
   ]
  },
  {
   "cell_type": "code",
   "execution_count": 71,
   "metadata": {},
   "outputs": [],
   "source": [
    "nearest_neighbors=np.argsort(distances)[0:k]"
   ]
  },
  {
   "cell_type": "code",
   "execution_count": 72,
   "metadata": {},
   "outputs": [
    {
     "data": {
      "text/plain": [
       "array([1, 1, 1, 1, 1])"
      ]
     },
     "execution_count": 72,
     "metadata": {},
     "output_type": "execute_result"
    }
   ],
   "source": [
    "Y_train[nearest_neighbors]\n"
   ]
  },
  {
   "cell_type": "code",
   "execution_count": 75,
   "metadata": {},
   "outputs": [
    {
     "data": {
      "text/plain": [
       "array([0, 5], dtype=int64)"
      ]
     },
     "execution_count": 75,
     "metadata": {},
     "output_type": "execute_result"
    }
   ],
   "source": [
    "result=np.bincount(Y_train[nearest_neighbors])\n",
    "result"
   ]
  },
  {
   "cell_type": "code",
   "execution_count": 74,
   "metadata": {},
   "outputs": [
    {
     "name": "stdout",
     "output_type": "stream",
     "text": [
      "🍌\n"
     ]
    }
   ],
   "source": [
    "if np.argmax(result) == 0:\n",
    "    print(\"🍎\")\n",
    "else:\n",
    "    print(\"🍌\")"
   ]
  }
 ],
 "metadata": {
  "kernelspec": {
   "display_name": "Python 3",
   "language": "python",
   "name": "python3"
  },
  "language_info": {
   "codemirror_mode": {
    "name": "ipython",
    "version": 3
   },
   "file_extension": ".py",
   "mimetype": "text/x-python",
   "name": "python",
   "nbconvert_exporter": "python",
   "pygments_lexer": "ipython3",
   "version": "3.11.4"
  }
 },
 "nbformat": 4,
 "nbformat_minor": 2
}
