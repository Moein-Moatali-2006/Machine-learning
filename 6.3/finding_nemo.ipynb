{
 "cells": [
  {
   "cell_type": "code",
   "execution_count": 140,
   "metadata": {},
   "outputs": [],
   "source": [
    "# %matplotlib liner\n",
    "%matplotlib qt"
   ]
  },
  {
   "cell_type": "code",
   "execution_count": 141,
   "metadata": {},
   "outputs": [],
   "source": [
    "import numpy as np\n",
    "import matplotlib.pyplot as plt\n",
    "import cv2\n",
    "# from knn import KNN\n",
    "from sknn import KNN"
   ]
  },
  {
   "cell_type": "code",
   "execution_count": 142,
   "metadata": {},
   "outputs": [],
   "source": [
    "nemo = cv2.imread(\"input/nemo.jpg\")\n",
    "nemo = cv2.resize(nemo,(0,0),fx=0.25,fy=0.25)\n",
    "nemo = cv2.cvtColor(nemo,cv2.COLOR_BGR2RGB)\n",
    "plt.imshow(nemo)\n",
    "plt.show()"
   ]
  },
  {
   "cell_type": "code",
   "execution_count": 143,
   "metadata": {},
   "outputs": [],
   "source": [
    "pixels_list_rgb = nemo.reshape(-1 , 3)\n",
    "pixels_list_rgb.shape\n",
    "\n",
    "fig = plt.figure(figsize=(8,8))\n",
    "ax = fig.add_subplot(projection=\"3d\")\n",
    "\n",
    "ax.scatter(pixels_list_rgb[::,0],pixels_list_rgb[::,1],pixels_list_rgb[::,2],c=pixels_list_rgb / 255)\n",
    "ax.set_xlabel(\"red\")\n",
    "ax.set_ylabel(\"green\")\n",
    "ax.set_zlabel(\"blue\")\n",
    "plt.show()"
   ]
  },
  {
   "cell_type": "code",
   "execution_count": 144,
   "metadata": {},
   "outputs": [],
   "source": [
    "nemo_hsv = cv2.cvtColor(nemo,cv2.COLOR_RGB2HSV)"
   ]
  },
  {
   "cell_type": "code",
   "execution_count": 145,
   "metadata": {},
   "outputs": [],
   "source": [
    "pixels_list_hsv=nemo_hsv.reshape(-1,3)\n",
    "fig = plt.figure(figsize=(8,8))\n",
    "ax = fig.add_subplot(projection=\"3d\")\n",
    "\n",
    "ax.scatter(pixels_list_hsv[:,0],pixels_list_hsv[:,1],pixels_list_hsv[:,2],c=pixels_list_rgb / 255)\n",
    "ax.set_xlabel(\"Hue\")\n",
    "ax.set_ylabel(\"Saturation\")\n",
    "ax.set_zlabel(\"Value\")\n",
    "plt.show()"
   ]
  },
  {
   "cell_type": "code",
   "execution_count": 146,
   "metadata": {},
   "outputs": [],
   "source": [
    "light_orange = (1,190,200)\n",
    "dark_orange = (18,255,255)\n",
    "\n",
    "mask_orange = cv2.inRange(nemo_hsv,light_orange,dark_orange)\n",
    "plt.imshow(mask_orange,cmap=\"gray\")\n",
    "plt.show()"
   ]
  },
  {
   "cell_type": "code",
   "execution_count": 147,
   "metadata": {},
   "outputs": [],
   "source": [
    "light_white = (0,0,200)\n",
    "dark_white = (145,60,255)\n",
    "\n",
    "mask_white = cv2.inRange(nemo_hsv,light_white,dark_white)\n",
    "plt.imshow(mask_white,cmap=\"gray\")\n",
    "plt.show()"
   ]
  },
  {
   "cell_type": "code",
   "execution_count": 148,
   "metadata": {},
   "outputs": [],
   "source": [
    "final_mask = mask_orange + mask_white\n",
    "plt.imshow(final_mask,cmap=\"gray\")\n",
    "plt.show()"
   ]
  },
  {
   "cell_type": "code",
   "execution_count": 149,
   "metadata": {},
   "outputs": [],
   "source": [
    "final_result = cv2.bitwise_and(nemo,nemo,mask=final_mask)\n",
    "plt.imshow(final_result,)\n",
    "plt.show()"
   ]
  },
  {
   "cell_type": "code",
   "execution_count": 150,
   "metadata": {},
   "outputs": [
    {
     "data": {
      "text/plain": [
       "(35728, 3)"
      ]
     },
     "execution_count": 150,
     "metadata": {},
     "output_type": "execute_result"
    }
   ],
   "source": [
    "X_train = pixels_list_hsv / 255 \n",
    "X_train.shape"
   ]
  },
  {
   "cell_type": "code",
   "execution_count": 151,
   "metadata": {},
   "outputs": [
    {
     "data": {
      "text/plain": [
       "(35728,)"
      ]
     },
     "execution_count": 151,
     "metadata": {},
     "output_type": "execute_result"
    }
   ],
   "source": [
    "Y_train = final_mask.reshape(-1,) // 255\n",
    "Y_train.shape"
   ]
  },
  {
   "cell_type": "code",
   "execution_count": 152,
   "metadata": {},
   "outputs": [],
   "source": [
    "knn=KNN(k=3)\n",
    "knn.fit(X_train,Y_train)"
   ]
  },
  {
   "cell_type": "code",
   "execution_count": 153,
   "metadata": {},
   "outputs": [
    {
     "data": {
      "text/plain": [
       "[0]"
      ]
     },
     "execution_count": 153,
     "metadata": {},
     "output_type": "execute_result"
    }
   ],
   "source": [
    "new_pixel = np.array([100,100,120]) / 255\n",
    "knn.predict([new_pixel])\n"
   ]
  },
  {
   "cell_type": "code",
   "execution_count": 154,
   "metadata": {},
   "outputs": [],
   "source": [
    "dashe_nemo = cv2.imread(\"input\\dashe-nemo.jpg\")\n",
    "dashe_nemo = cv2.resize(dashe_nemo,(0,0),fx=0.25,fy=0.25)\n",
    "dashe_nemo = cv2.cvtColor(dashe_nemo,cv2.COLOR_BGR2RGB)\n",
    "plt.imshow(dashe_nemo)\n",
    "plt.show()"
   ]
  },
  {
   "cell_type": "code",
   "execution_count": 155,
   "metadata": {},
   "outputs": [
    {
     "data": {
      "text/plain": [
       "(89, 160, 3)"
      ]
     },
     "execution_count": 155,
     "metadata": {},
     "output_type": "execute_result"
    }
   ],
   "source": [
    "dashe_nemo_hsv = cv2.cvtColor(dashe_nemo,cv2.COLOR_RGB2HSV)\n",
    "dashe_nemo_hsv.shape"
   ]
  },
  {
   "cell_type": "code",
   "execution_count": 156,
   "metadata": {},
   "outputs": [
    {
     "data": {
      "text/plain": [
       "(14240, 3)"
      ]
     },
     "execution_count": 156,
     "metadata": {},
     "output_type": "execute_result"
    }
   ],
   "source": [
    "X_test = dashe_nemo_hsv.reshape(-1,3) / 255\n",
    "X_test.shape"
   ]
  },
  {
   "cell_type": "code",
   "execution_count": 161,
   "metadata": {},
   "outputs": [],
   "source": [
    "Y_pred = knn.predict(X_test)"
   ]
  },
  {
   "cell_type": "code",
   "execution_count": 158,
   "metadata": {},
   "outputs": [],
   "source": [
    "output = Y_pred.reshape(dashe_nemo.shape[:2]) \n",
    "plt.imshow(output,cmap=\"gray\")\n",
    "plt.show()"
   ]
  },
  {
   "cell_type": "code",
   "execution_count": 160,
   "metadata": {},
   "outputs": [],
   "source": [
    "from sklearn.neighbors import KNeighborsClassifier\n",
    "\n",
    "knn = KNeighborsClassifier(n_neighbors=3)\n",
    "knn.fit(X_train,Y_train)\n",
    "Y_pred=knn.predict(X_test)\n"
   ]
  },
  {
   "cell_type": "code",
   "execution_count": 163,
   "metadata": {},
   "outputs": [],
   "source": [
    "output = Y_pred.reshape(dashe_nemo.shape[:2]) \n",
    "plt.imshow(output, cmap='gray') \n",
    "plt.show()\n"
   ]
  },
  {
   "cell_type": "code",
   "execution_count": 193,
   "metadata": {},
   "outputs": [],
   "source": [
    "abji_nemo = cv2.imread(\"input/abjie-nemo.jpg\")\n",
    "abji_nemo = cv2.resize(abji_nemo,(0,0),fx=0.1,fy=0.1)\n",
    "abji_nemo = cv2.cvtColor(abji_nemo,cv2.COLOR_BGR2RGB)\n",
    "plt.imshow(abji_nemo)\n",
    "plt.show()\n"
   ]
  },
  {
   "cell_type": "code",
   "execution_count": 194,
   "metadata": {},
   "outputs": [],
   "source": [
    "abji_nemo_hsv = cv2.cvtColor(abji_nemo,cv2.COLOR_RGB2HSV)"
   ]
  },
  {
   "cell_type": "code",
   "execution_count": 195,
   "metadata": {},
   "outputs": [],
   "source": [
    "X_test = abji_nemo_hsv.reshape(-1,3) / 255"
   ]
  },
  {
   "cell_type": "code",
   "execution_count": 196,
   "metadata": {},
   "outputs": [],
   "source": [
    "Y_pred = knn.predict(X_test)"
   ]
  },
  {
   "cell_type": "code",
   "execution_count": 197,
   "metadata": {},
   "outputs": [],
   "source": [
    "output = Y_pred.reshape(abji_nemo.shape[:2]) \n",
    "plt.imshow(output, cmap='gray') \n",
    "plt.show()"
   ]
  },
  {
   "cell_type": "code",
   "execution_count": 198,
   "metadata": {},
   "outputs": [],
   "source": [
    "output = output.astype(\"uint8\")"
   ]
  },
  {
   "cell_type": "code",
   "execution_count": 199,
   "metadata": {},
   "outputs": [],
   "source": [
    "final_result = cv2.bitwise_and(abji_nemo,abji_nemo,mask=output)\n",
    "plt.imshow(final_result) \n",
    "plt.show()"
   ]
  }
 ],
 "metadata": {
  "kernelspec": {
   "display_name": "Python 3",
   "language": "python",
   "name": "python3"
  },
  "language_info": {
   "codemirror_mode": {
    "name": "ipython",
    "version": 3
   },
   "file_extension": ".py",
   "mimetype": "text/x-python",
   "name": "python",
   "nbconvert_exporter": "python",
   "pygments_lexer": "ipython3",
   "version": "3.11.4"
  }
 },
 "nbformat": 4,
 "nbformat_minor": 2
}
