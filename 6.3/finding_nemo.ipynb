{
 "cells": [
  {
   "cell_type": "code",
   "execution_count": 19,
   "metadata": {},
   "outputs": [],
   "source": [
    "# %matplotlib liner\n",
    "%matplotlib qt"
   ]
  },
  {
   "cell_type": "code",
   "execution_count": 20,
   "metadata": {},
   "outputs": [],
   "source": [
    "import numpy as np\n",
    "import matplotlib.pyplot as plt\n",
    "import cv2\n",
    "from knn import KNN"
   ]
  },
  {
   "cell_type": "code",
   "execution_count": 21,
   "metadata": {},
   "outputs": [],
   "source": [
    "nemo = cv2.imread(\"input/nemo.jpg\")\n",
    "nemo = cv2.resize(nemo,(0,0),fx=0.25,fy=0.25)\n",
    "nemo = cv2.cvtColor(nemo,cv2.COLOR_BGR2RGB)\n",
    "plt.imshow(nemo)\n",
    "plt.show()"
   ]
  },
  {
   "cell_type": "code",
   "execution_count": 29,
   "metadata": {},
   "outputs": [],
   "source": [
    "pixels_list_rgb = nemo.reshape(-1 , 3)\n",
    "pixels_list_rgb.shape\n",
    "\n",
    "fig = plt.figure(figsize=(8,8))\n",
    "ax = fig.add_subplot(projection=\"3d\")\n",
    "\n",
    "ax.scatter(pixels_list_rgb[::,0],pixels_list_rgb[::,1],pixels_list_rgb[::,2],c=pixels_list_rgb / 255)\n",
    "ax.set_xlabel(\"red\")\n",
    "ax.set_ylabel(\"green\")\n",
    "ax.set_zlabel(\"blue\")\n",
    "plt.show()"
   ]
  },
  {
   "cell_type": "code",
   "execution_count": 26,
   "metadata": {},
   "outputs": [],
   "source": [
    "nemo_hsv = cv2.cvtColor(nemo,cv2.COLOR_RGB2HSV)"
   ]
  },
  {
   "cell_type": "code",
   "execution_count": 30,
   "metadata": {},
   "outputs": [],
   "source": [
    "pixels_list_hsv=nemo_hsv.reshape(-1,3)\n",
    "fig = plt.figure(figsize=(8,8))\n",
    "ax = fig.add_subplot(projection=\"3d\")\n",
    "\n",
    "ax.scatter(pixels_list_hsv[:,0],pixels_list_hsv[:,1],pixels_list_hsv[:,2],c=pixels_list_rgb / 255)\n",
    "ax.set_xlabel(\"Hue\")\n",
    "ax.set_ylabel(\"Saturation\")\n",
    "ax.set_zlabel(\"Value\")\n",
    "plt.show()"
   ]
  },
  {
   "cell_type": "code",
   "execution_count": 34,
   "metadata": {},
   "outputs": [],
   "source": [
    "light_orange = (1,190,200)\n",
    "dark_orange = (18,255,255)\n",
    "\n",
    "mask_orange = cv2.inRange(nemo_hsv,light_orange,dark_orange)\n",
    "plt.imshow(mask_orange,cmap=\"gray\")\n",
    "plt.show()"
   ]
  },
  {
   "cell_type": "code",
   "execution_count": 35,
   "metadata": {},
   "outputs": [],
   "source": [
    "light_white = (0,0,200)\n",
    "dark_white = (145,60,255)\n",
    "\n",
    "mask_white = cv2.inRange(nemo_hsv,light_white,dark_white)\n",
    "plt.imshow(mask_white,cmap=\"gray\")\n",
    "plt.show()"
   ]
  },
  {
   "cell_type": "code",
   "execution_count": 36,
   "metadata": {},
   "outputs": [],
   "source": [
    "final_mask = mask_orange +mask_white\n",
    "plt.imshow(final_mask,cmap=\"gray\")\n",
    "plt.show()"
   ]
  },
  {
   "cell_type": "code",
   "execution_count": 37,
   "metadata": {},
   "outputs": [],
   "source": [
    "final_result = cv2.bitwise_and(nemo,nemo,mask=final_mask)\n",
    "plt.imshow(final_result,)\n",
    "plt.show()"
   ]
  },
  {
   "cell_type": "code",
   "execution_count": 38,
   "metadata": {},
   "outputs": [
    {
     "data": {
      "text/plain": [
       "(35728, 3)"
      ]
     },
     "execution_count": 38,
     "metadata": {},
     "output_type": "execute_result"
    }
   ],
   "source": [
    "X_train = pixels_list_hsv / 255 \n",
    "X_train.shape\n"
   ]
  },
  {
   "cell_type": "code",
   "execution_count": 47,
   "metadata": {},
   "outputs": [
    {
     "data": {
      "text/plain": [
       "(35728,)"
      ]
     },
     "execution_count": 47,
     "metadata": {},
     "output_type": "execute_result"
    }
   ],
   "source": [
    "Y_train = final_mask.reshape(-1,) // 255\n",
    "Y_train.shape"
   ]
  },
  {
   "cell_type": "code",
   "execution_count": 48,
   "metadata": {},
   "outputs": [],
   "source": [
    "knn=KNN(k=3)\n",
    "knn.fit(X_train,Y_train)"
   ]
  },
  {
   "cell_type": "code",
   "execution_count": 50,
   "metadata": {},
   "outputs": [
    {
     "data": {
      "text/plain": [
       "[0]"
      ]
     },
     "execution_count": 50,
     "metadata": {},
     "output_type": "execute_result"
    }
   ],
   "source": [
    "new_pixel = np.array([100,100,0]) / 255\n",
    "knn.predict([new_pixel])\n"
   ]
  },
  {
   "cell_type": "code",
   "execution_count": 51,
   "metadata": {},
   "outputs": [],
   "source": [
    "dashe_nemo = cv2.imread(\"input\\dashe-nemo.jpg\")\n",
    "dashe_nemo = cv2.resize(dashe_nemo,(0,0),fx=0.25,fy=0.25)\n",
    "dashe_nemo = cv2.cvtColor(dashe_nemo,cv2.COLOR_BGR2RGB)\n",
    "plt.imshow(dashe_nemo)\n",
    "plt.show()"
   ]
  },
  {
   "cell_type": "code",
   "execution_count": 52,
   "metadata": {},
   "outputs": [
    {
     "data": {
      "text/plain": [
       "(89, 160, 3)"
      ]
     },
     "execution_count": 52,
     "metadata": {},
     "output_type": "execute_result"
    }
   ],
   "source": [
    "dashe_nemo_hsv = cv2.cvtColor(dashe_nemo,cv2.COLOR_RGB2HSV)\n",
    "dashe_nemo_hsv.shape"
   ]
  },
  {
   "cell_type": "code",
   "execution_count": 54,
   "metadata": {},
   "outputs": [
    {
     "data": {
      "text/plain": [
       "(14240, 3)"
      ]
     },
     "execution_count": 54,
     "metadata": {},
     "output_type": "execute_result"
    }
   ],
   "source": [
    "X_test = dashe_nemo_hsv.reshape(-1,3) / 255\n",
    "X_test.shape"
   ]
  },
  {
   "cell_type": "code",
   "execution_count": null,
   "metadata": {},
   "outputs": [],
   "source": [
    "Y_pred = knn.predict(X_test)"
   ]
  },
  {
   "cell_type": "code",
   "execution_count": null,
   "metadata": {},
   "outputs": [],
   "source": [
    "output = Y_pred.reshape(dashe_nemo[:2]) \n",
    "plt.imshow(output)\n",
    "plt.show()"
   ]
  }
 ],
 "metadata": {
  "kernelspec": {
   "display_name": "Python 3",
   "language": "python",
   "name": "python3"
  },
  "language_info": {
   "codemirror_mode": {
    "name": "ipython",
    "version": 3
   },
   "file_extension": ".py",
   "mimetype": "text/x-python",
   "name": "python",
   "nbconvert_exporter": "python",
   "pygments_lexer": "ipython3",
   "version": "3.11.4"
  }
 },
 "nbformat": 4,
 "nbformat_minor": 2
}
